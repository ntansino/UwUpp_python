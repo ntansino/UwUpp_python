{
 "metadata": {
  "language_info": {
   "codemirror_mode": {
    "name": "ipython",
    "version": 3
   },
   "file_extension": ".py",
   "mimetype": "text/x-python",
   "name": "python",
   "nbconvert_exporter": "python",
   "pygments_lexer": "ipython3",
   "version": "3.8.3-final"
  },
  "orig_nbformat": 2,
  "kernelspec": {
   "name": "python3",
   "display_name": "Python 3",
   "language": "python"
  }
 },
 "nbformat": 4,
 "nbformat_minor": 2,
 "cells": [
  {
   "cell_type": "code",
   "execution_count": null,
   "metadata": {},
   "outputs": [],
   "source": [
    "from UwUpp_interp import interp"
   ]
  },
  {
   "source": [
    "UwU++ Python Implementation:"
   ],
   "cell_type": "markdown",
   "metadata": {}
  },
  {
   "source": [
    "For this project, we plan to implement a subset of UwUpp (also known as UwU++) in Python. UwU++ is an esoteric programming language based around unconventional, meme-related slang. As described by its creator, UwU++ aims to compete with Brainf*ck to be the most painful programming language to read and write in. The reason being that the entire programming language is written in what is known as UwU-speak, an English dialect that is phonetically spelled and pronounced as if spoken/written by an infant.\n"
   ],
   "cell_type": "markdown",
   "metadata": {}
  },
  {
   "source": [
    "Normal Code:"
   ],
   "cell_type": "markdown",
   "metadata": {}
  },
  {
   "cell_type": "code",
   "execution_count": null,
   "metadata": {},
   "outputs": [],
   "source": [
    "# variable assignment and printing\n",
    "assign_print \\\n",
    "'''\n",
    "x = 5\n",
    "print(\"Output = \" x)\n",
    "\n",
    "'''"
   ]
  },
  {
   "source": [
    "UwU++ Code:"
   ],
   "cell_type": "markdown",
   "metadata": {}
  },
  {
   "cell_type": "code",
   "execution_count": null,
   "metadata": {},
   "outputs": [],
   "source": [
    "UwU variable assignment and printing\n",
    "assign_print \\\n",
    "'''\n",
    "x = 5\n",
    "nuzzels(\"Owtpuwt iws \" x)\n",
    "\n",
    "'''"
   ]
  },
  {
   "source": [
    "We plan to implement a few features that differentiate our subset from its predecessor. For example, while our implementation of UwU++ functions and conditionals will behave similarly to their predecessors, they will also include several distinctions involving behavior and structure. An example of this will be shown through our subset’s ability to support functions as first-class citizens. We also plan to modify the configuration of UwU++ conditionals. Considering UwU++ doesn’t seem to support the use of “else/else if” statements, our subset aims to support the use of these statements to provide users with alternative design options."
   ],
   "cell_type": "markdown",
   "metadata": {}
  },
  {
   "cell_type": "code",
   "execution_count": null,
   "metadata": {},
   "outputs": [],
   "source": []
  },
  {
   "source": [
    "Our implementation design also involves several restrictions that differentiate our subset and UwU++, as well as its predecessor, UwU-lang. Regarding data types, our language will only support three primary data types (ints, floats, and strings). We also plan to revise UwU++’s I/O behavior by prohibiting alphabetic and/or alphanumeric input. Our subset will only deal with numerical user input and will raise an error otherwise."
   ],
   "cell_type": "markdown",
   "metadata": {}
  }
 ]
}