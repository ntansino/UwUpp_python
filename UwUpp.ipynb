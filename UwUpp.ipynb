{
 "metadata": {
  "language_info": {
   "codemirror_mode": {
    "name": "ipython",
    "version": 3
   },
   "file_extension": ".py",
   "mimetype": "text/x-python",
   "name": "python",
   "nbconvert_exporter": "python",
   "pygments_lexer": "ipython3",
   "version": "3.8.3-final"
  },
  "orig_nbformat": 2,
  "kernelspec": {
   "name": "python3",
   "display_name": "Python 3",
   "language": "python"
  }
 },
 "nbformat": 4,
 "nbformat_minor": 2,
 "cells": [
  {
   "source": [
    "# UwU++\n",
    "## Python 3 Implementation\n",
    "### Name: Danny Noe and Nick Tansino\n",
    "Note: This notebook can only run in the when it is in the same directory as the UwU++ code."
   ],
   "cell_type": "markdown",
   "metadata": {}
  },
  {
   "source": [
    "We have implemented a modified version of the UwUpp language (also known as UwU++) in Python. UwU++ is an esoteric programming language based around unconventional, meme-related slang. As described by its creator, UwU++ aims to compete with Brainf*ck to be the most painful programming language to read and write in. The reason being that the entire programming language is written in what is known as UwU-speak, an English dialect that is phonetically spelled and pronounced as if spoken/written by an infant.\n"
   ],
   "cell_type": "markdown",
   "metadata": {}
  },
  {
   "source": [
    "Based on this GitHub repo: https://github.com/deltaphish/uwupp"
   ],
   "cell_type": "markdown",
   "metadata": {}
  },
  {
   "source": [
    "Our GitHub: https://github.com/ntansino001/UwUpp_python"
   ],
   "cell_type": "markdown",
   "metadata": {}
  },
  {
   "source": [
    "We have implemented a few features that differentiate our subset from its predecessor. For example, while our implementation of UwU++ functions and conditionals will behave similarly to their predecessors, they will also include several distinctions involving behavior and structure. An example of this will be shown through our subset’s ability to support functions as first-class citizens. We also plan to modify the configuration of UwU++ conditionals. Considering UwU++ doesn’t seem to support the use of “else/else if” statements, our subset aims to support the use of these statements to provide users with alternative design options."
   ],
   "cell_type": "markdown",
   "metadata": {}
  },
  {
   "source": [
    "Our implementation design also involves several restrictions that differentiate our subset and UwU++, as well as its predecessor, UwU-lang. Regarding data types, our language will only support three primary data types (ints, floats, and strings). We also plan to revise UwU++’s I/O behavior by prohibiting alphabetic and/or alphanumeric input. Our subset will only deal with numerical user input and will raise an error otherwise."
   ],
   "cell_type": "markdown",
   "metadata": {}
  },
  {
   "source": [
    "# Code Examples\n",
    "We can see UwU++ in action below."
   ],
   "cell_type": "markdown",
   "metadata": {}
  },
  {
   "cell_type": "code",
   "execution_count": 1,
   "metadata": {},
   "outputs": [],
   "source": [
    "# Import the interpreter\n",
    "from UwUpp_interp import interp"
   ]
  },
  {
   "source": [
    "Normal Code (Python Like):"
   ],
   "cell_type": "markdown",
   "metadata": {}
  },
  {
   "cell_type": "code",
   "execution_count": 2,
   "metadata": {},
   "outputs": [],
   "source": [
    "# variable assignment and printing\n",
    "assign_print = \\\n",
    "    '''\n",
    "    x = 5\n",
    "    print(x)\n",
    "    '''"
   ]
  },
  {
   "source": [
    "The expected output would be 5."
   ],
   "cell_type": "markdown",
   "metadata": {}
  },
  {
   "source": [
    "UwU++ Code:"
   ],
   "cell_type": "markdown",
   "metadata": {}
  },
  {
   "cell_type": "code",
   "execution_count": 3,
   "metadata": {},
   "outputs": [],
   "source": [
    "assign = \\\n",
    "    \"\"\"\n",
    "    UwU Basic Variable assignment and print\n",
    "    decwawe x = 5\n",
    "    nuzzels(x)\n",
    "    \"\"\""
   ]
  },
  {
   "source": [
    "Here we expect the same output of 5."
   ],
   "cell_type": "markdown",
   "metadata": {}
  },
  {
   "cell_type": "code",
   "execution_count": 4,
   "metadata": {},
   "outputs": [
    {
     "output_type": "stream",
     "name": "stdout",
     "text": [
      "Syntax error at 'Basic'\n> 5\n"
     ]
    }
   ],
   "source": [
    "interp(assign)"
   ]
  },
  {
   "source": [
    "A simple variable declaration and print statement work."
   ],
   "cell_type": "markdown",
   "metadata": {}
  },
  {
   "source": [
    "## Functions\n",
    "The next program we'll test is a program with a function."
   ],
   "cell_type": "markdown",
   "metadata": {}
  },
  {
   "cell_type": "code",
   "execution_count": 5,
   "metadata": {},
   "outputs": [],
   "source": [
    "add = \\\n",
    "    \"\"\"\n",
    "    decwawe *add(a)* {\n",
    "        decwawe x = 1\n",
    "        decwawe y = x pwus a\n",
    "        wetuwn y\n",
    "    }\n",
    "    nuzzels(add(5))\n",
    "    \"\"\"\n"
   ]
  },
  {
   "source": [
    "The expected output of this program is 6."
   ],
   "cell_type": "markdown",
   "metadata": {}
  },
  {
   "cell_type": "code",
   "execution_count": 6,
   "metadata": {},
   "outputs": [
    {
     "output_type": "stream",
     "name": "stdout",
     "text": [
      "> 6\n"
     ]
    }
   ],
   "source": [
    "interp(add)"
   ]
  },
  {
   "source": [
    "6 is outputted as expected."
   ],
   "cell_type": "markdown",
   "metadata": {}
  },
  {
   "source": [
    "## Input\n",
    "UwU++ supports input from the command line using the wisten command."
   ],
   "cell_type": "markdown",
   "metadata": {}
  },
  {
   "cell_type": "code",
   "execution_count": 7,
   "metadata": {},
   "outputs": [],
   "source": [
    "test_wisten = \\\n",
    "    \"\"\"\n",
    "    decwawe input\n",
    "    input = wisten ()\n",
    "    nuzzels(input)\n",
    "    \"\"\""
   ]
  },
  {
   "source": [
    "The interpreter should print the input."
   ],
   "cell_type": "markdown",
   "metadata": {}
  },
  {
   "cell_type": "code",
   "execution_count": 8,
   "metadata": {},
   "outputs": [
    {
     "output_type": "stream",
     "name": "stdout",
     "text": [
      "> 30\n"
     ]
    }
   ],
   "source": [
    "interp(test_wisten)"
   ]
  },
  {
   "source": [
    "The interpreter prints the input!"
   ],
   "cell_type": "markdown",
   "metadata": {}
  },
  {
   "source": [
    "## Conditionals\n",
    "UwU++ uses conditionals with the notices keyword followed by a comparison."
   ],
   "cell_type": "markdown",
   "metadata": {}
  },
  {
   "cell_type": "code",
   "execution_count": 9,
   "metadata": {},
   "outputs": [],
   "source": [
    "notices_no_ewse = \\\n",
    "    \"\"\"\n",
    "    decwawe x = 1000\n",
    "    decwawe y = 54321\n",
    "    * notices x wess_twan y *\n",
    "        nuzzels(x)\n",
    "        stawp\n",
    "    \"\"\""
   ]
  },
  {
   "source": [
    "In this simple comparison program, 1000 should be printed."
   ],
   "cell_type": "markdown",
   "metadata": {}
  },
  {
   "cell_type": "code",
   "execution_count": 10,
   "metadata": {},
   "outputs": [
    {
     "output_type": "stream",
     "name": "stdout",
     "text": [
      "> 1000\n"
     ]
    }
   ],
   "source": [
    "interp(notices_no_ewse)"
   ]
  },
  {
   "source": [
    "We get the expected output."
   ],
   "cell_type": "markdown",
   "metadata": {}
  },
  {
   "source": [
    "One change we made from the original UwUpp was to support else statements. To fit the style of UwU++ else statemense use the ewse keyword."
   ],
   "cell_type": "markdown",
   "metadata": {}
  },
  {
   "cell_type": "code",
   "execution_count": 11,
   "metadata": {},
   "outputs": [],
   "source": [
    "notices = \\\n",
    "    \"\"\"\n",
    "    decwawe x = 100000\n",
    "    decwawe y = 54321\n",
    "    * notices x wess_twan y *\n",
    "        nuzzels(x)\n",
    "    ewse\n",
    "        nuzzels(y)\n",
    "        stawp\n",
    "    \"\"\""
   ]
  },
  {
   "source": [
    "The expected output for the second conditional program is 54321."
   ],
   "cell_type": "markdown",
   "metadata": {}
  },
  {
   "cell_type": "code",
   "execution_count": 12,
   "metadata": {},
   "outputs": [
    {
     "output_type": "stream",
     "name": "stdout",
     "text": [
      "> 54321\n"
     ]
    }
   ],
   "source": [
    "interp(notices)"
   ]
  },
  {
   "source": [
    "54321 gets printed to the command line."
   ],
   "cell_type": "markdown",
   "metadata": {}
  },
  {
   "source": [
    "## Binop Expressions\n",
    "UwU++ supports +, -, *, /, >, ==, and < using UwU speak."
   ],
   "cell_type": "markdown",
   "metadata": {}
  },
  {
   "cell_type": "code",
   "execution_count": 13,
   "metadata": {},
   "outputs": [],
   "source": [
    "binop = \\\n",
    "    \"\"\"\n",
    "    decwawe x = 10\n",
    "    decwawe y = 122\n",
    "    decwawe z = x pwus y\n",
    "    nuzzels(z)\n",
    "\n",
    "    decwawe a = 150\n",
    "    decwawe b = 50\n",
    "    decwawe c = a minwus b\n",
    "    nuzzels(c)\n",
    "\n",
    "    decwawe d = 10\n",
    "    decwawe e = 5\n",
    "    decwawe f = d twimes e\n",
    "    nuzzels(f)\n",
    "\n",
    "    decwawe m = 1000\n",
    "    decwawe n = 20\n",
    "    decwawe o = m diwide n\n",
    "    nuzzels(o)\n",
    "    \"\"\""
   ]
  },
  {
   "source": [
    "Our binary operators program should handle each type of mathematical expression and output: 132, 100, 50, 50."
   ],
   "cell_type": "markdown",
   "metadata": {}
  },
  {
   "cell_type": "code",
   "execution_count": 14,
   "metadata": {},
   "outputs": [
    {
     "output_type": "stream",
     "name": "stdout",
     "text": [
      "> 132\n> 100\n> 50\n> 50\n"
     ]
    }
   ],
   "source": [
    "interp(binop)"
   ]
  },
  {
   "source": [
    "The binop programs runs as expected."
   ],
   "cell_type": "markdown",
   "metadata": {}
  },
  {
   "source": [
    "UwU++ also supports negative numbers."
   ],
   "cell_type": "markdown",
   "metadata": {}
  },
  {
   "cell_type": "code",
   "execution_count": 15,
   "metadata": {},
   "outputs": [],
   "source": [
    "negative = \\\n",
    "        \"\"\"\n",
    "        decwawe x = 200\n",
    "        decwawe y = minwus 200\n",
    "        nuzzels(y)\n",
    "        nuzzels(x minwus y)\n",
    "        nuzzels(x minwus minwus 20)\n",
    "        \"\"\""
   ]
  },
  {
   "cell_type": "code",
   "execution_count": 16,
   "metadata": {},
   "outputs": [
    {
     "output_type": "stream",
     "name": "stdout",
     "text": [
      "> -200\n> 400\n> 220\n"
     ]
    }
   ],
   "source": [
    "interp(negative)"
   ]
  },
  {
   "source": [
    "Our interpreter is able to handle uminus expressions."
   ],
   "cell_type": "markdown",
   "metadata": {}
  },
  {
   "source": [
    "## While Loops\n",
    "In UwU++ while loops are called with owo. There are no for loops in the original UwU++ or our implementation."
   ],
   "cell_type": "markdown",
   "metadata": {}
  },
  {
   "cell_type": "code",
   "execution_count": 17,
   "metadata": {},
   "outputs": [],
   "source": [
    "OwO = \\\n",
    "    \"\"\"\n",
    "    decwawe x = 1000\n",
    "    decwawe y = 54321\n",
    "\n",
    "    owo * x wess_twan y *{\n",
    "        nuzzels(x)\n",
    "        x = x twimes 2\n",
    "        nuzzels(y)}\n",
    "        stawp\n",
    "    \"\"\""
   ]
  },
  {
   "source": [
    "The OwO program should print x and y until x is greater than y."
   ],
   "cell_type": "markdown",
   "metadata": {}
  },
  {
   "cell_type": "code",
   "execution_count": 18,
   "metadata": {},
   "outputs": [
    {
     "output_type": "stream",
     "name": "stdout",
     "text": [
      "> 1000\n> 54321\n> 2000\n> 54321\n> 4000\n> 54321\n> 8000\n> 54321\n> 16000\n> 54321\n> 32000\n> 54321\n"
     ]
    }
   ],
   "source": [
    "interp(OwO)"
   ]
  },
  {
   "source": [
    "The while loop runs and terminates successfully. "
   ],
   "cell_type": "markdown",
   "metadata": {}
  },
  {
   "source": [
    "## Final Test\n",
    "The final program we have showcases the different features of UwU++."
   ],
   "cell_type": "markdown",
   "metadata": {}
  },
  {
   "cell_type": "code",
   "execution_count": 19,
   "metadata": {},
   "outputs": [],
   "source": [
    "test_all = \\\n",
    "    \"\"\"\n",
    "    decwawe input = wisten()\n",
    "    decwawe *math(a)* {\n",
    "        decwawe x = 10\n",
    "        decwawe y = 122\n",
    "        decwawe z = x pwus y\n",
    "        nuzzels(z)\n",
    "\n",
    "        decwawe b = 50\n",
    "        decwawe c = a minwus b\n",
    "        nuzzels(c)\n",
    "\n",
    "        decwawe d = 10\n",
    "        decwawe e = 5\n",
    "        decwawe f = d twimes e\n",
    "        nuzzels(f)\n",
    "\n",
    "        decwawe m = 1000\n",
    "        decwawe n = 20\n",
    "        decwawe o = m diwide n\n",
    "        wetuwn o\n",
    "    }\n",
    "    math(input)\n",
    "    decwawe y = 122\n",
    "    * notices input wess_twan y *\n",
    "        nuzzels(input)\n",
    "    ewse\n",
    "        nuzzels(y)\n",
    "    stawp\n",
    "\n",
    "    decwawe x = 200\n",
    "    owo * x gweatew_twan y *{\n",
    "        nuzzels(x)\n",
    "        x = x diwide 2\n",
    "        nuzzels(y)\n",
    "        }\n",
    "        stawp\n",
    "    \n",
    "    * notices 10 eqwall_twoo 10 *\n",
    "        nuzzels(10)\n",
    "        stawp\n",
    "    \n",
    "    * notices 20 eqwall_twoo 10 *\n",
    "        nuzzels(10)\n",
    "    ewse\n",
    "        nuzzels(20)\n",
    "        stawp\n",
    "    \"\"\""
   ]
  },
  {
   "cell_type": "code",
   "execution_count": 20,
   "metadata": {},
   "outputs": [
    {
     "output_type": "stream",
     "name": "stdout",
     "text": [
      "> 132\n> -35\n> 50\n> 15\n> 200\n> 122\n> 10\n> 20\n"
     ]
    }
   ],
   "source": [
    "interp(test_all)"
   ]
  }
 ]
}